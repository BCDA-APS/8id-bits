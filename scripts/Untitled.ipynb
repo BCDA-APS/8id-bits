{
 "cells": [
  {
   "cell_type": "code",
   "execution_count": 5,
   "id": "c421a8d7-b61c-4eb8-9b80-dbb434f8f9b9",
   "metadata": {},
   "outputs": [],
   "source": [
    "from aps_8id_bs_instrument.initialize_bs_tools import (  # noqa: F401\n",
    "    RE,\n",
    "    bec,\n",
    "    cat,\n",
    "    oregistry,\n",
    "    peaks,\n",
    "    sd,\n",
    ")\n",
    "\n",
    "from aps_8id_bs_instrument.utils.session_logs import logger\n",
    "from bluesky.magics import BlueskyMagics\n",
    "from IPython import get_ipython\n",
    "\n",
    "from ophyd import EpicsSignal\n",
    "import bluesky.plans as bp\n",
    "import bluesky.plan_stubs as bps\n",
    "import databroker\n"
   ]
  },
  {
   "cell_type": "code",
   "execution_count": 4,
   "id": "a6b88e0d-f0f7-4e0f-8333-9062f83beaca",
   "metadata": {},
   "outputs": [
    {
     "name": "stdout",
     "output_type": "stream",
     "text": [
      "\n",
      "\n",
      "Transient Scan ID: 6     Time: 2024-07-03 14:07:13\n",
      "Persistent Unique Scan ID: '5d8c6686-b2ad-4826-9304-ef5578fafc59'\n",
      "New stream: 'primary'\n",
      "+-----------+------------+------------+------------+\n",
      "|   seq_num |       time |      motor |        det |\n",
      "+-----------+------------+------------+------------+\n",
      "|         1 | 14:07:13.6 |      1.000 |      0.607 |\n",
      "|         2 | 14:07:13.6 |      2.000 |      0.135 |\n",
      "|         3 | 14:07:13.6 |      3.000 |      0.011 |\n",
      "|         4 | 14:07:13.6 |      4.000 |      0.000 |\n",
      "|         5 | 14:07:13.6 |      5.000 |      0.000 |\n",
      "+-----------+------------+------------+------------+\n",
      "generator scan ['5d8c6686'] (scan num: 6)\n"
     ]
    },
    {
     "data": {
      "text/plain": [
       "('5d8c6686-b2ad-4826-9304-ef5578fafc59',)"
      ]
     },
     "execution_count": 4,
     "metadata": {},
     "output_type": "execute_result"
    }
   ],
   "source": [
    "from ophyd.sim import det, motor\n",
    "from bluesky.plans import scan, rel_scan, list_scan\n",
    "\n",
    "# scan a motor from 1 to 5, taking 5 equally-spaced readings of 'det'\n",
    "RE(scan([det], motor, 1, 5, 5))"
   ]
  },
  {
   "cell_type": "code",
   "execution_count": 3,
   "id": "0149046e-4ba2-4f49-b5b6-e71779a35d2d",
   "metadata": {},
   "outputs": [],
   "source": [
    "bec.disable_plots()  # User config\n"
   ]
  },
  {
   "cell_type": "code",
   "execution_count": null,
   "id": "af8a5b27-8318-4aa1-9179-0a0c0d32acb6",
   "metadata": {},
   "outputs": [],
   "source": []
  }
 ],
 "metadata": {
  "kernelspec": {
   "display_name": "Python 3 (ipykernel)",
   "language": "python",
   "name": "python3"
  },
  "language_info": {
   "codemirror_mode": {
    "name": "ipython",
    "version": 3
   },
   "file_extension": ".py",
   "mimetype": "text/x-python",
   "name": "python",
   "nbconvert_exporter": "python",
   "pygments_lexer": "ipython3",
   "version": "3.10.14"
  }
 },
 "nbformat": 4,
 "nbformat_minor": 5
}
