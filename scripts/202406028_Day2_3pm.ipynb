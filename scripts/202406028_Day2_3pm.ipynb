{
 "cells": [
  {
   "cell_type": "code",
   "execution_count": 1,
   "id": "23f509ca-32d4-4ae7-820a-2cf52b0e8807",
   "metadata": {},
   "outputs": [
    {
     "name": "stdout",
     "output_type": "stream",
     "text": [
      "/home/beams10/8IDIUSER/er_bs_v3/src/instrument/utils/config_utils.py\n"
     ]
    },
    {
     "name": "stderr",
     "output_type": "stream",
     "text": [
      "APS device not found, suspenders not installed.\n"
     ]
    },
    {
     "name": "stdout",
     "output_type": "stream",
     "text": [
      "creating class\n",
      "creating class\n",
      "creating class\n"
     ]
    },
    {
     "name": "stderr",
     "output_type": "stream",
     "text": [
      "I Fri-15:50:05 - ############################################################ startup\n",
      "I Fri-15:50:05 - logging started\n",
      "I Fri-15:50:05 - logging level = 10\n",
      "I Fri-15:50:05 - /home/beams10/8IDIUSER/er_bs_v3/src/instrument/utils/session_logs.py\n",
      "I Fri-15:50:05 - /home/beams10/8IDIUSER/er_bs_v3/src/instrument/data_collection.py\n",
      "I Fri-15:50:05 - writing to SPEC file: /home/beams10/8IDIUSER/er_bs_v3/scripts/20240628-154949.dat\n",
      "I Fri-15:50:05 -    >>>>   Using default SPEC file name   <<<<\n",
      "I Fri-15:50:05 -    file will be created when bluesky ends its next scan\n",
      "I Fri-15:50:05 -    to change SPEC file, use command:   newSpecFile('title')\n",
      "I Fri-15:50:05 - #### data collection tools are loaded is complete. ####\n"
     ]
    },
    {
     "name": "stdout",
     "output_type": "stream",
     "text": [
      "Activating auto-logging. Current session state plus future input saved.\n",
      "Filename       : /home/beams10/8IDIUSER/er_bs_v3/scripts/.logs/ipython_console.log\n",
      "Mode           : rotate\n",
      "Output logging : True\n",
      "Raw input log  : False\n",
      "Timestamping   : True\n",
      "State          : active\n"
     ]
    }
   ],
   "source": [
    "import logging\n",
    "import time\n",
    "\n",
    "import aps_8id_bs_instrument\n",
    "from aps_8id_bs_instrument.data_collection import *  # noqa\n",
    "from aps_8id_bs_instrument.initialize_bs_tools import (  # noqa: F401\n",
    "    RE,\n",
    "    bec,\n",
    "    cat,\n",
    "    oregistry,\n",
    "    peaks,\n",
    "    sd,\n",
    ")\n",
    "from aps_8id_bs_instrument.utils.session_logs import logger\n",
    "from bluesky.magics import BlueskyMagics\n",
    "from IPython import get_ipython\n",
    "\n",
    "from ophyd import EpicsSignal\n",
    "import bluesky.plans as bp\n",
    "import bluesky.plan_stubs as bps\n",
    "import databroker\n",
    "cat = databroker.catalog[\"8idi_xpcs\"] "
   ]
  },
  {
   "cell_type": "code",
   "execution_count": 5,
   "id": "0e242b54-c29c-4324-87ef-f6a5c7be139f",
   "metadata": {},
   "outputs": [],
   "source": [
    "from ophyd.sim import det\n",
    "det_list = [det]"
   ]
  },
  {
   "cell_type": "code",
   "execution_count": 6,
   "id": "0218bc86-a1cb-46c9-83d4-62974255d9ea",
   "metadata": {},
   "outputs": [
    {
     "name": "stdout",
     "output_type": "stream",
     "text": [
      "\n",
      "\n",
      "Transient Scan ID: 28861     Time: 2024-06-28 15:51:28\n",
      "Persistent Unique Scan ID: '0f14f78a-2c03-4e61-bf67-11c36e0ba76a'\n",
      "New stream: 'label_start_motor'\n",
      "New stream: 'primary'\n",
      "+-----------+------------+------------+\n",
      "|   seq_num |       time |        det |\n",
      "+-----------+------------+------------+\n",
      "|         1 | 15:51:30.1 |      1.000 |\n",
      "+-----------+------------+------------+\n",
      "generator count ['0f14f78a'] (scan num: 28861)\n"
     ]
    },
    {
     "data": {
      "text/plain": [
       "('0f14f78a-2c03-4e61-bf67-11c36e0ba76a',)"
      ]
     },
     "execution_count": 6,
     "metadata": {},
     "output_type": "execute_result"
    }
   ],
   "source": [
    "RE(bp.count(det_list))"
   ]
  },
  {
   "cell_type": "code",
   "execution_count": 7,
   "id": "fa8ee6e1-5567-46ed-b6f3-512399ffdf64",
   "metadata": {},
   "outputs": [
    {
     "name": "stdout",
     "output_type": "stream",
     "text": [
      "\n",
      "\n",
      "Transient Scan ID: 28862     Time: 2024-06-28 15:51:37\n",
      "Persistent Unique Scan ID: '97a144d1-de98-4310-a289-42fbb765e5fc'\n",
      "New stream: 'label_start_motor'\n",
      "New stream: 'primary'\n",
      "+-----------+------------+------------+------------+\n",
      "|   seq_num |       time |   sample_y |        det |\n",
      "+-----------+------------+------------+------------+\n",
      "|         1 | 15:51:39.5 | 36.5000397 |      1.000 |\n",
      "|         2 | 15:51:40.2 | 36.6000174 |      1.000 |\n",
      "|         3 | 15:51:40.9 | 36.7000101 |      1.000 |\n",
      "|         4 | 15:51:41.7 | 36.8000082 |      1.000 |\n",
      "|         5 | 15:51:42.3 | 36.9000110 |      1.000 |\n",
      "|         6 | 15:51:43.0 | 37.0000226 |      1.000 |\n",
      "|         7 | 15:51:43.7 | 37.1000226 |      1.000 |\n",
      "|         8 | 15:51:44.4 | 37.2000195 |      1.000 |\n",
      "|         9 | 15:51:45.2 | 37.3000174 |      1.000 |\n",
      "|        10 | 15:51:45.7 | 37.4000256 |      1.000 |\n",
      "|        11 | 15:51:46.4 | 37.5000095 |      1.000 |\n",
      "+-----------+------------+------------+------------+\n",
      "generator rel_scan ['97a144d1'] (scan num: 28862)\n"
     ]
    },
    {
     "data": {
      "text/plain": [
       "('97a144d1-de98-4310-a289-42fbb765e5fc',)"
      ]
     },
     "execution_count": 7,
     "metadata": {},
     "output_type": "execute_result"
    },
    {
     "name": "stderr",
     "output_type": "stream",
     "text": [
      "--- Logging error ---\n",
      "Traceback (most recent call last):\n",
      "  File \"/home/beams/8IDIUSER/.conda/envs/8_id_bs_v0/lib/python3.10/logging/handlers.py\", line 74, in emit\n",
      "    self.doRollover()\n",
      "  File \"/home/beams/8IDIUSER/.conda/envs/8_id_bs_v0/lib/python3.10/logging/handlers.py\", line 174, in doRollover\n",
      "    os.remove(dfn)\n",
      "FileNotFoundError: [Errno 2] No such file or directory: '/home/beams10/8IDIUSER/er_bs_v3/scripts/.logs/ophyd.control_layer.log.9'\n",
      "Call stack:\n",
      "  File \"/home/beams/8IDIUSER/.conda/envs/8_id_bs_v0/lib/python3.10/threading.py\", line 973, in _bootstrap\n",
      "    self._bootstrap_inner()\n",
      "  File \"/home/beams/8IDIUSER/.conda/envs/8_id_bs_v0/lib/python3.10/threading.py\", line 1016, in _bootstrap_inner\n",
      "    self.run()\n",
      "  File \"/home/beams/8IDIUSER/.conda/envs/8_id_bs_v0/lib/python3.10/site-packages/ophyd/_dispatch.py\", line 55, in run\n",
      "    callback(*args, **kwargs)\n",
      "  File \"/home/beams/8IDIUSER/.conda/envs/8_id_bs_v0/lib/python3.10/site-packages/ophyd/signal.py\", line 1444, in _read_changed\n",
      "    super().put(\n",
      "  File \"/home/beams/8IDIUSER/.conda/envs/8_id_bs_v0/lib/python3.10/site-packages/ophyd/signal.py\", line 243, in put\n",
      "    self.control_layer_log.debug(\n",
      "Message: 'put(value=%s, timestamp=%s, force=%s, metadata=%s)'\n",
      "Arguments: (-1.220703125e-06, 1719607931.160258, True, {'status': <AlarmStatus.NO_ALARM: 0>, 'severity': <AlarmSeverity.NO_ALARM: 0>, 'precision': 7, 'lower_ctrl_limit': -50.05, 'upper_ctrl_limit': 50.0, 'units': 'mm'})\n",
      "--- Logging error ---\n",
      "Traceback (most recent call last):\n",
      "  File \"/home/beams/8IDIUSER/.conda/envs/8_id_bs_v0/lib/python3.10/logging/handlers.py\", line 74, in emit\n",
      "    self.doRollover()\n",
      "  File \"/home/beams/8IDIUSER/.conda/envs/8_id_bs_v0/lib/python3.10/logging/handlers.py\", line 174, in doRollover\n",
      "    os.remove(dfn)\n",
      "FileNotFoundError: [Errno 2] No such file or directory: '/home/beams10/8IDIUSER/er_bs_v3/scripts/.logs/ophyd.control_layer.log.9'\n",
      "Call stack:\n",
      "  File \"/home/beams/8IDIUSER/.conda/envs/8_id_bs_v0/lib/python3.10/threading.py\", line 973, in _bootstrap\n",
      "    self._bootstrap_inner()\n",
      "  File \"/home/beams/8IDIUSER/.conda/envs/8_id_bs_v0/lib/python3.10/threading.py\", line 1016, in _bootstrap_inner\n",
      "    self.run()\n",
      "  File \"/home/beams/8IDIUSER/.conda/envs/8_id_bs_v0/lib/python3.10/site-packages/ophyd/_dispatch.py\", line 55, in run\n",
      "    callback(*args, **kwargs)\n",
      "  File \"/home/beams/8IDIUSER/.conda/envs/8_id_bs_v0/lib/python3.10/site-packages/ophyd/signal.py\", line 1444, in _read_changed\n",
      "    super().put(\n",
      "  File \"/home/beams/8IDIUSER/.conda/envs/8_id_bs_v0/lib/python3.10/site-packages/ophyd/signal.py\", line 243, in put\n",
      "    self.control_layer_log.debug(\n",
      "Message: 'put(value=%s, timestamp=%s, force=%s, metadata=%s)'\n",
      "Arguments: (-210436.6979, 1719607945.663179, True, {'status': <AlarmStatus.NO_ALARM: 0>, 'severity': <AlarmSeverity.NO_ALARM: 0>, 'precision': 4, 'lower_ctrl_limit': -100.0, 'upper_ctrl_limit': 100.0, 'units': 'mm'})\n",
      "--- Logging error ---\n",
      "Traceback (most recent call last):\n",
      "  File \"/home/beams/8IDIUSER/.conda/envs/8_id_bs_v0/lib/python3.10/logging/handlers.py\", line 74, in emit\n",
      "    self.doRollover()\n",
      "  File \"/home/beams/8IDIUSER/.conda/envs/8_id_bs_v0/lib/python3.10/logging/handlers.py\", line 174, in doRollover\n",
      "    os.remove(dfn)\n",
      "FileNotFoundError: [Errno 2] No such file or directory: '/home/beams10/8IDIUSER/er_bs_v3/scripts/.logs/ophyd.control_layer.log.9'\n",
      "Call stack:\n",
      "  File \"/home/beams/8IDIUSER/.conda/envs/8_id_bs_v0/lib/python3.10/threading.py\", line 973, in _bootstrap\n",
      "    self._bootstrap_inner()\n",
      "  File \"/home/beams/8IDIUSER/.conda/envs/8_id_bs_v0/lib/python3.10/threading.py\", line 1016, in _bootstrap_inner\n",
      "    self.run()\n",
      "  File \"/home/beams/8IDIUSER/.conda/envs/8_id_bs_v0/lib/python3.10/site-packages/ophyd/_dispatch.py\", line 55, in run\n",
      "    callback(*args, **kwargs)\n",
      "  File \"/home/beams/8IDIUSER/.conda/envs/8_id_bs_v0/lib/python3.10/site-packages/ophyd/signal.py\", line 1444, in _read_changed\n",
      "    super().put(\n",
      "  File \"/home/beams/8IDIUSER/.conda/envs/8_id_bs_v0/lib/python3.10/site-packages/ophyd/signal.py\", line 243, in put\n",
      "    self.control_layer_log.debug(\n",
      "Message: 'put(value=%s, timestamp=%s, force=%s, metadata=%s)'\n",
      "Arguments: (-7.90141, 1719607963.022256, True, {'status': <AlarmStatus.NO_ALARM: 0>, 'severity': <AlarmSeverity.NO_ALARM: 0>, 'precision': 6, 'lower_ctrl_limit': 0.0, 'upper_ctrl_limit': 0.0, 'units': 'mm'})\n"
     ]
    }
   ],
   "source": [
    "RE(bp.rel_scan(det_list, sample.y, -0.5,0.5,11))"
   ]
  },
  {
   "cell_type": "code",
   "execution_count": null,
   "id": "440ea604-cb96-404a-b8cf-0997ea0a4b39",
   "metadata": {},
   "outputs": [],
   "source": [
    "ds = cat[-1].primary\n",
    "# ds.metadata"
   ]
  },
  {
   "cell_type": "code",
   "execution_count": null,
   "id": "8398d44d-76f6-4b10-bc3c-ad3434cb89ad",
   "metadata": {},
   "outputs": [],
   "source": [
    "from apstools.utils import plotxy\n",
    "plotxy(-1, \"sample_y\", \"flag2ad_stats1_total\")"
   ]
  }
 ],
 "metadata": {
  "kernelspec": {
   "display_name": "Python 3 (ipykernel)",
   "language": "python",
   "name": "python3"
  },
  "language_info": {
   "codemirror_mode": {
    "name": "ipython",
    "version": 3
   },
   "file_extension": ".py",
   "mimetype": "text/x-python",
   "name": "python",
   "nbconvert_exporter": "python",
   "pygments_lexer": "ipython3",
   "version": "3.10.14"
  }
 },
 "nbformat": 4,
 "nbformat_minor": 5
}
