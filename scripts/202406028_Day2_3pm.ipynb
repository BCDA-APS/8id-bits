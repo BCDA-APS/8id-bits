{
 "cells": [
  {
   "cell_type": "code",
   "execution_count": 1,
   "id": "23f509ca-32d4-4ae7-820a-2cf52b0e8807",
   "metadata": {},
   "outputs": [
    {
     "name": "stdout",
     "output_type": "stream",
     "text": [
      "/home/beams10/8IDIUSER/er_bs_v3/src/instrument/utils/config_utils.py\n"
     ]
    },
    {
     "name": "stderr",
     "output_type": "stream",
     "text": [
      "APS device not found, suspenders not installed.\n"
     ]
    },
    {
     "name": "stdout",
     "output_type": "stream",
     "text": [
      "creating class\n",
      "creating class\n",
      "creating class\n"
     ]
    },
    {
     "name": "stderr",
     "output_type": "stream",
     "text": [
      "I Fri-15:59:37 - ############################################################ startup\n",
      "I Fri-15:59:37 - logging started\n",
      "I Fri-15:59:37 - logging level = 10\n",
      "I Fri-15:59:37 - /home/beams10/8IDIUSER/er_bs_v3/src/instrument/utils/session_logs.py\n",
      "I Fri-15:59:37 - /home/beams10/8IDIUSER/er_bs_v3/src/instrument/data_collection.py\n",
      "I Fri-15:59:37 - writing to SPEC file: /home/beams10/8IDIUSER/er_bs_v3/scripts/20240628-155920.dat\n",
      "I Fri-15:59:37 -    >>>>   Using default SPEC file name   <<<<\n",
      "I Fri-15:59:37 -    file will be created when bluesky ends its next scan\n",
      "I Fri-15:59:37 -    to change SPEC file, use command:   newSpecFile('title')\n",
      "I Fri-15:59:37 - #### data collection tools are loaded is complete. ####\n"
     ]
    },
    {
     "name": "stdout",
     "output_type": "stream",
     "text": [
      "Activating auto-logging. Current session state plus future input saved.\n",
      "Filename       : /home/beams10/8IDIUSER/er_bs_v3/scripts/.logs/ipython_console.log\n",
      "Mode           : rotate\n",
      "Output logging : True\n",
      "Raw input log  : False\n",
      "Timestamping   : True\n",
      "State          : active\n"
     ]
    }
   ],
   "source": [
    "import logging\n",
    "import time\n",
    "\n",
    "import aps_8id_bs_instrument\n",
    "from aps_8id_bs_instrument.data_collection import *  # noqa\n",
    "from aps_8id_bs_instrument.initialize_bs_tools import (  # noqa: F401\n",
    "    RE,\n",
    "    bec,\n",
    "    cat,\n",
    "    oregistry,\n",
    "    peaks,\n",
    "    sd,\n",
    ")\n",
    "from aps_8id_bs_instrument.utils.session_logs import logger\n",
    "from bluesky.magics import BlueskyMagics\n",
    "from IPython import get_ipython\n",
    "\n",
    "from ophyd import EpicsSignal\n",
    "import bluesky.plans as bp\n",
    "import bluesky.plan_stubs as bps\n",
    "import databroker\n",
    "cat = databroker.catalog[\"8idi_xpcs\"] "
   ]
  },
  {
   "cell_type": "code",
   "execution_count": 2,
   "id": "0e242b54-c29c-4324-87ef-f6a5c7be139f",
   "metadata": {},
   "outputs": [],
   "source": [
    "from ophyd.sim import det\n",
    "det_list = [det]"
   ]
  },
  {
   "cell_type": "code",
   "execution_count": 8,
   "id": "0218bc86-a1cb-46c9-83d4-62974255d9ea",
   "metadata": {},
   "outputs": [
    {
     "name": "stdout",
     "output_type": "stream",
     "text": [
      "\n",
      "\n",
      "Transient Scan ID: 28865     Time: 2024-06-28 16:53:26\n",
      "Persistent Unique Scan ID: '296283dd-8f0b-45a6-bed1-abf9238a5724'\n",
      "New stream: 'label_start_motor'\n",
      "New stream: 'primary'\n",
      "+-----------+------------+------------+\n",
      "|   seq_num |       time |        det |\n",
      "+-----------+------------+------------+\n",
      "|         1 | 16:53:27.2 |      1.000 |\n",
      "+-----------+------------+------------+\n",
      "generator count ['296283dd'] (scan num: 28865)\n"
     ]
    },
    {
     "data": {
      "text/plain": [
       "('296283dd-8f0b-45a6-bed1-abf9238a5724',)"
      ]
     },
     "execution_count": 8,
     "metadata": {},
     "output_type": "execute_result"
    }
   ],
   "source": [
    "RE(bp.count(det_list))"
   ]
  },
  {
   "cell_type": "code",
   "execution_count": 9,
   "id": "fa8ee6e1-5567-46ed-b6f3-512399ffdf64",
   "metadata": {},
   "outputs": [
    {
     "name": "stdout",
     "output_type": "stream",
     "text": [
      "\n",
      "\n",
      "Transient Scan ID: 28866     Time: 2024-06-28 16:53:32\n",
      "Persistent Unique Scan ID: 'c08b84a1-5cb4-45a4-8a75-eb4b51025904'\n",
      "New stream: 'label_start_motor'\n",
      "New stream: 'primary'\n",
      "+-----------+------------+------------+------------+\n",
      "|   seq_num |       time |   sample_y |        det |\n",
      "+-----------+------------+------------+------------+\n",
      "|         1 | 16:53:34.3 | 36.5000378 |      1.000 |\n",
      "|         2 | 16:53:35.0 | 36.5333542 |      1.000 |\n",
      "|         3 | 16:53:35.7 | 36.5666882 |      1.000 |\n",
      "|         4 | 16:53:36.4 | 36.6000131 |      1.000 |\n",
      "|         5 | 16:53:37.1 | 36.6333508 |      1.000 |\n",
      "|         6 | 16:53:37.8 | 36.6666815 |      1.000 |\n",
      "|         7 | 16:53:38.5 | 36.7000153 |      1.000 |\n",
      "|         8 | 16:53:39.2 | 36.7333459 |      1.000 |\n",
      "|         9 | 16:53:39.6 | 36.7666934 |      1.000 |\n",
      "|        10 | 16:53:40.3 | 36.8000104 |      1.000 |\n",
      "|        11 | 16:53:40.9 | 36.8333472 |      1.000 |\n",
      "|        12 | 16:53:41.7 | 36.8666827 |      1.000 |\n",
      "|        13 | 16:53:42.4 | 36.9000153 |      1.000 |\n",
      "|        14 | 16:53:43.1 | 36.9333487 |      1.000 |\n",
      "|        15 | 16:53:43.7 | 36.9666882 |      1.000 |\n",
      "|        16 | 16:53:44.4 | 37.0000250 |      1.000 |\n",
      "|        17 | 16:53:45.1 | 37.0333545 |      1.000 |\n",
      "|        18 | 16:53:45.5 | 37.0666937 |      1.000 |\n",
      "|        19 | 16:53:46.2 | 37.1000253 |      1.000 |\n",
      "|        20 | 16:53:46.9 | 37.1333542 |      1.000 |\n",
      "|        21 | 16:53:47.6 | 37.1666858 |      1.000 |\n",
      "|        22 | 16:53:48.0 | 37.2000272 |      1.000 |\n",
      "|        23 | 16:53:48.8 | 37.2333533 |      1.000 |\n",
      "|        24 | 16:53:49.2 | 37.2666934 |      1.000 |\n",
      "|        25 | 16:53:49.9 | 37.3000232 |      1.000 |\n",
      "|        26 | 16:53:50.6 | 37.3333551 |      1.000 |\n",
      "|        27 | 16:53:51.4 | 37.3666855 |      1.000 |\n",
      "|        28 | 16:53:52.1 | 37.4000153 |      1.000 |\n",
      "|        29 | 16:53:52.7 | 37.4333511 |      1.000 |\n",
      "|        30 | 16:53:53.4 | 37.4666864 |      1.000 |\n",
      "|        31 | 16:53:54.1 | 37.5000186 |      1.000 |\n",
      "+-----------+------------+------------+------------+\n",
      "generator rel_scan ['c08b84a1'] (scan num: 28866)\n"
     ]
    },
    {
     "data": {
      "text/plain": [
       "('c08b84a1-5cb4-45a4-8a75-eb4b51025904',)"
      ]
     },
     "execution_count": 9,
     "metadata": {},
     "output_type": "execute_result"
    }
   ],
   "source": [
    "RE(bp.rel_scan(det_list, sample.y, -0.5,0.5,31))"
   ]
  },
  {
   "cell_type": "code",
   "execution_count": 5,
   "id": "440ea604-cb96-404a-b8cf-0997ea0a4b39",
   "metadata": {},
   "outputs": [],
   "source": [
    "ds = cat[-1].primary\n",
    "# ds.metadata"
   ]
  },
  {
   "cell_type": "code",
   "execution_count": 7,
   "id": "8398d44d-76f6-4b10-bc3c-ad3434cb89ad",
   "metadata": {},
   "outputs": [
    {
     "name": "stderr",
     "output_type": "stream",
     "text": [
      "/home/beams/8IDIUSER/.conda/envs/8_id_bs_v0/lib/python3.10/site-packages/pysumreg/sum_registers.py:255: RuntimeWarning: invalid value encountered in scalar divide\n",
      "  (self.n*self.XY - self.X*self.Y)\n"
     ]
    },
    {
     "data": {
      "text/plain": [
       "{28864: {'mean_x': np.float64(37.000019087357956),\n",
       "  'mean_y': np.float64(1.0),\n",
       "  'stddev_x': 0.331659608289292,\n",
       "  'stddev_y': 0.0,\n",
       "  'slope': np.float64(0.0),\n",
       "  'intercept': np.float64(1.0),\n",
       "  'correlation': np.float64(nan),\n",
       "  'centroid': np.float64(37.000019087357956),\n",
       "  'sigma': 0.3162250288676873,\n",
       "  'min_x': np.float64(36.50003723144531),\n",
       "  'max_x': np.float64(37.50001007080078),\n",
       "  'min_y': np.float64(1.0),\n",
       "  'max_y': np.float64(1.0),\n",
       "  'x_at_max_y': np.float64(37.50001007080078),\n",
       "  'x_at_min_y': np.float64(37.50001007080078),\n",
       "  'fwhm': 0.7446530367181206}}"
      ]
     },
     "execution_count": 7,
     "metadata": {},
     "output_type": "execute_result"
    },
    {
     "data": {
      "image/png": "[encoded data removed]",
      "text/plain": [
       "<Figure size 640x480 with 1 Axes>"
      ]
     },
     "metadata": {},
     "output_type": "display_data"
    },
    {
     "name": "stderr",
     "output_type": "stream",
     "text": [
      "--- Logging error ---\n",
      "Traceback (most recent call last):\n",
      "  File \"/home/beams/8IDIUSER/.conda/envs/8_id_bs_v0/lib/python3.10/logging/handlers.py\", line 74, in emit\n",
      "    self.doRollover()\n",
      "  File \"/home/beams/8IDIUSER/.conda/envs/8_id_bs_v0/lib/python3.10/logging/handlers.py\", line 174, in doRollover\n",
      "    os.remove(dfn)\n",
      "FileNotFoundError: [Errno 2] No such file or directory: '/home/beams10/8IDIUSER/er_bs_v3/scripts/.logs/ophyd.control_layer.log.9'\n",
      "Call stack:\n",
      "  File \"/home/beams/8IDIUSER/.conda/envs/8_id_bs_v0/lib/python3.10/threading.py\", line 973, in _bootstrap\n",
      "    self._bootstrap_inner()\n",
      "  File \"/home/beams/8IDIUSER/.conda/envs/8_id_bs_v0/lib/python3.10/threading.py\", line 1016, in _bootstrap_inner\n",
      "    self.run()\n",
      "  File \"/home/beams/8IDIUSER/.conda/envs/8_id_bs_v0/lib/python3.10/site-packages/ophyd/_dispatch.py\", line 55, in run\n",
      "    callback(*args, **kwargs)\n",
      "  File \"/home/beams/8IDIUSER/.conda/envs/8_id_bs_v0/lib/python3.10/site-packages/ophyd/signal.py\", line 1444, in _read_changed\n",
      "    super().put(\n",
      "  File \"/home/beams/8IDIUSER/.conda/envs/8_id_bs_v0/lib/python3.10/site-packages/ophyd/signal.py\", line 243, in put\n",
      "    self.control_layer_log.debug(\n",
      "Message: 'put(value=%s, timestamp=%s, force=%s, metadata=%s)'\n",
      "Arguments: (-2.1000000003823516e-05, 1719608909.12526, True, {'status': <AlarmStatus.STATE: 7>, 'severity': <AlarmSeverity.MAJOR: 2>, 'precision': 6, 'lower_ctrl_limit': -300.0, 'upper_ctrl_limit': 300.0, 'units': 'mm'})\n"
     ]
    }
   ],
   "source": [
    "from apstools.utils import plotxy\n",
    "plotxy(-1, \"sample_y\", \"det\")"
   ]
  }
 ],
 "metadata": {
  "kernelspec": {
   "display_name": "Python 3 (ipykernel)",
   "language": "python",
   "name": "python3"
  },
  "language_info": {
   "codemirror_mode": {
    "name": "ipython",
    "version": 3
   },
   "file_extension": ".py",
   "mimetype": "text/x-python",
   "name": "python",
   "nbconvert_exporter": "python",
   "pygments_lexer": "ipython3",
   "version": "3.10.14"
  }
 },
 "nbformat": 4,
 "nbformat_minor": 5
}
