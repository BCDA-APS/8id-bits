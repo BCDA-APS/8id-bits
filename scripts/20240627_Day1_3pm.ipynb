{
 "cells": [
  {
   "cell_type": "code",
   "execution_count": null,
   "id": "0",
   "metadata": {},
   "outputs": [],
   "source": [
    "import logging\n",
    "import time\n",
    "\n",
    "import aps_8id_bs_instrument\n",
    "from aps_8id_bs_instrument.data_collection import *  # noqa\n",
    "from aps_8id_bs_instrument.initialize_bs_tools import (  # noqa: F401\n",
    "    RE,\n",
    "    bec,\n",
    "    cat,\n",
    "    oregistry,\n",
    "    peaks,\n",
    "    sd,\n",
    ")\n",
    "from aps_8id_bs_instrument.utils.session_logs import logger\n",
    "from bluesky.magics import BlueskyMagics\n",
    "from IPython import get_ipython\n",
    "\n",
    "\n",
    "\n",
    "from ophyd import EpicsSignal\n",
    "import bluesky.plans as bp\n",
    "import bluesky.plan_stubs as bps\n",
    "import databroker\n",
    "cat = databroker.catalog[\"8idi_xpcs\"] "
   ]
  },
  {
   "cell_type": "code",
   "execution_count": null,
   "id": "1",
   "metadata": {},
   "outputs": [],
   "source": [
    "# flag2Stats1=EpicsSignal('8idaSoft:flag2:Stats1:Total_RBV',name='flag2Stats1')\n",
    "\n",
    "# det = [flag2ad, flag2Stats1]\n",
    "det = [flag2ad]\n",
    "flag2ad.hdf1.kind=\"omitted\"\n",
    "flag2ad.stats1.kind=\"hinted\"\n",
    "flag2ad.stats1.total.kind=\"hinted\"\n",
    "flag2ad.stats1.max_xy.kind=\"hinted\"\n",
    "flag2ad.stats1.max_xy.y.kind=\"hinted\"\n",
    "bec.disable_plots()"
   ]
  },
  {
   "cell_type": "code",
   "execution_count": null,
   "id": "2",
   "metadata": {},
   "outputs": [],
   "source": [
    "RE(bp.rel_scan(det, sample.y, -0.5,0.5,11))"
   ]
  },
  {
   "cell_type": "code",
   "execution_count": null,
   "id": "3",
   "metadata": {},
   "outputs": [],
   "source": [
    "ds = cat[-1].primary\n",
    "# ds.metadata"
   ]
  },
  {
   "cell_type": "code",
   "execution_count": null,
   "id": "4",
   "metadata": {},
   "outputs": [],
   "source": [
    "from apstools.utils import plotxy\n",
    "import hdf5plugin"
   ]
  },
  {
   "cell_type": "code",
   "execution_count": null,
   "id": "5",
   "metadata": {},
   "outputs": [],
   "source": [
    "plotxy(-1, \"sample_y\", \"flag2ad_stats1_total\")"
   ]
  }
 ],
 "metadata": {
  "kernelspec": {
   "display_name": "Python 3 (ipykernel)",
   "language": "python",
   "name": "python3"
  },
  "language_info": {
   "codemirror_mode": {
    "name": "ipython",
    "version": 3
   },
   "file_extension": ".py",
   "mimetype": "text/x-python",
   "name": "python",
   "nbconvert_exporter": "python",
   "pygments_lexer": "ipython3",
   "version": "3.10.14"
  }
 },
 "nbformat": 4,
 "nbformat_minor": 5
}
