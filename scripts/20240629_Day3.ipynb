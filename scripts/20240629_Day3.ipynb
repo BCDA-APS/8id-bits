{
 "cells": [
  {
   "cell_type": "code",
   "execution_count": 1,
   "id": "23f509ca-32d4-4ae7-820a-2cf52b0e8807",
   "metadata": {},
   "outputs": [
    {
     "name": "stdout",
     "output_type": "stream",
     "text": [
      "/home/beams10/8IDIUSER/er_bs_v3/src/instrument/utils/config_utils.py\n"
     ]
    },
    {
     "name": "stderr",
     "output_type": "stream",
     "text": [
      "APS device not found, suspenders not installed.\n"
     ]
    },
    {
     "name": "stdout",
     "output_type": "stream",
     "text": [
      "creating class\n",
      "creating class\n",
      "creating class\n",
      "creating class\n"
     ]
    },
    {
     "name": "stderr",
     "output_type": "stream",
     "text": [
      "I Sat-10:47:25 - ############################################################ startup\n",
      "I Sat-10:47:25 - logging started\n",
      "I Sat-10:47:25 - logging level = 10\n",
      "I Sat-10:47:25 - /home/beams10/8IDIUSER/er_bs_v3/src/instrument/utils/session_logs.py\n",
      "I Sat-10:47:25 - /home/beams10/8IDIUSER/er_bs_v3/src/instrument/data_collection.py\n",
      "I Sat-10:47:25 - writing to SPEC file: /home/beams10/8IDIUSER/er_bs_v3/scripts/20240629-104707.dat\n",
      "I Sat-10:47:25 -    >>>>   Using default SPEC file name   <<<<\n",
      "I Sat-10:47:25 -    file will be created when bluesky ends its next scan\n",
      "I Sat-10:47:25 -    to change SPEC file, use command:   newSpecFile('title')\n",
      "I Sat-10:47:25 - #### data collection tools are loaded is complete. ####\n"
     ]
    },
    {
     "name": "stdout",
     "output_type": "stream",
     "text": [
      "Activating auto-logging. Current session state plus future input saved.\n",
      "Filename       : /home/beams10/8IDIUSER/er_bs_v3/scripts/.logs/ipython_console.log\n",
      "Mode           : rotate\n",
      "Output logging : True\n",
      "Raw input log  : False\n",
      "Timestamping   : True\n",
      "State          : active\n"
     ]
    }
   ],
   "source": [
    "import logging\n",
    "import time\n",
    "\n",
    "import aps_8id_bs_instrument\n",
    "from aps_8id_bs_instrument.data_collection import *  # noqa\n",
    "from aps_8id_bs_instrument.initialize_bs_tools import (  # noqa: F401\n",
    "    RE,\n",
    "    bec,\n",
    "    cat,\n",
    "    oregistry,\n",
    "    peaks,\n",
    "    sd,\n",
    ")\n",
    "from aps_8id_bs_instrument.utils.session_logs import logger\n",
    "from bluesky.magics import BlueskyMagics\n",
    "from IPython import get_ipython\n",
    "\n",
    "from ophyd import EpicsSignal\n",
    "import bluesky.plans as bp\n",
    "import bluesky.plan_stubs as bps\n",
    "import databroker\n",
    "cat = databroker.catalog[\"8idi_xpcs\"] "
   ]
  },
  {
   "cell_type": "code",
   "execution_count": 2,
   "id": "0e242b54-c29c-4324-87ef-f6a5c7be139f",
   "metadata": {},
   "outputs": [],
   "source": [
    "from ophyd.sim import det\n",
    "det_list = [det]"
   ]
  },
  {
   "cell_type": "code",
   "execution_count": 3,
   "id": "0218bc86-a1cb-46c9-83d4-62974255d9ea",
   "metadata": {},
   "outputs": [
    {
     "name": "stdout",
     "output_type": "stream",
     "text": [
      "\n",
      "\n",
      "Transient Scan ID: 28865     Time: 2024-06-29 10:47:36\n",
      "Persistent Unique Scan ID: '072d2414-42ca-4890-9614-730a63fc8036'\n",
      "New stream: 'label_start_motor'\n",
      "New stream: 'primary'\n",
      "+-----------+------------+------------+\n",
      "|   seq_num |       time |        det |\n",
      "+-----------+------------+------------+\n",
      "|         1 | 10:47:36.7 |      1.000 |\n",
      "+-----------+------------+------------+\n",
      "generator count ['072d2414'] (scan num: 28865)\n"
     ]
    },
    {
     "data": {
      "text/plain": [
       "('072d2414-42ca-4890-9614-730a63fc8036',)"
      ]
     },
     "execution_count": 3,
     "metadata": {},
     "output_type": "execute_result"
    }
   ],
   "source": [
    "RE(bp.count(det_list))"
   ]
  },
  {
   "cell_type": "code",
   "execution_count": 4,
   "id": "fa8ee6e1-5567-46ed-b6f3-512399ffdf64",
   "metadata": {},
   "outputs": [
    {
     "name": "stdout",
     "output_type": "stream",
     "text": [
      "\n",
      "\n",
      "Transient Scan ID: 28866     Time: 2024-06-29 10:47:39\n",
      "Persistent Unique Scan ID: 'aaab4943-0e5b-4335-ae0c-cf5a201fe464'\n",
      "New stream: 'label_start_motor'\n",
      "New stream: 'primary'\n",
      "+-----------+------------+------------+------------+\n",
      "|   seq_num |       time |   sample_y |        det |\n",
      "+-----------+------------+------------+------------+\n",
      "|         1 | 10:47:40.7 | 36.5000348 |      1.000 |\n",
      "|         2 | 10:47:41.5 | 36.6000119 |      1.000 |\n",
      "|         3 | 10:47:42.3 | 36.7000079 |      1.000 |\n",
      "|         4 | 10:47:43.0 | 36.8000073 |      1.000 |\n",
      "|         5 | 10:47:43.6 | 36.9000092 |      1.000 |\n",
      "|         6 | 10:47:44.3 | 37.0000220 |      1.000 |\n",
      "|         7 | 10:47:45.0 | 37.1000192 |      1.000 |\n",
      "|         8 | 10:47:45.7 | 37.2000183 |      1.000 |\n",
      "|         9 | 10:47:46.4 | 37.3000153 |      1.000 |\n",
      "|        10 | 10:47:47.1 | 37.4000131 |      1.000 |\n",
      "|        11 | 10:47:47.8 | 37.5000049 |      1.000 |\n",
      "+-----------+------------+------------+------------+\n",
      "generator rel_scan ['aaab4943'] (scan num: 28866)\n"
     ]
    },
    {
     "data": {
      "text/plain": [
       "('aaab4943-0e5b-4335-ae0c-cf5a201fe464',)"
      ]
     },
     "execution_count": 4,
     "metadata": {},
     "output_type": "execute_result"
    }
   ],
   "source": [
    "RE(bp.rel_scan(det_list, sample.y, -0.5,0.5,11))"
   ]
  },
  {
   "cell_type": "code",
   "execution_count": 5,
   "id": "440ea604-cb96-404a-b8cf-0997ea0a4b39",
   "metadata": {},
   "outputs": [],
   "source": [
    "ds = cat[-1].primary\n",
    "# ds.metadata"
   ]
  },
  {
   "cell_type": "code",
   "execution_count": 6,
   "id": "8398d44d-76f6-4b10-bc3c-ad3434cb89ad",
   "metadata": {
    "scrolled": true
   },
   "outputs": [
    {
     "name": "stderr",
     "output_type": "stream",
     "text": [
      "/home/beams/8IDIUSER/.conda/envs/8_id_bs_v0/lib/python3.10/site-packages/databroker/intake_xarray_core/base.py:23: FutureWarning: The return type of `Dataset.dims` will be changed to return a set of dimension names in future, in order to be more consistent with `DataArray.dims`. To access a mapping from dimension names to lengths, please use `Dataset.sizes`.\n",
      "  'dims': dict(self._ds.dims),\n",
      "/home/beams/8IDIUSER/.conda/envs/8_id_bs_v0/lib/python3.10/site-packages/pysumreg/sum_registers.py:255: RuntimeWarning: invalid value encountered in scalar divide\n",
      "  (self.n*self.XY - self.X*self.Y)\n"
     ]
    },
    {
     "data": {
      "text/plain": [
       "{28866: {'mean_x': np.float64(37.00001489812678),\n",
       "  'mean_y': np.float64(1.0),\n",
       "  'stddev_x': 0.3316597463186706,\n",
       "  'stddev_y': 0.0,\n",
       "  'slope': np.float64(0.0),\n",
       "  'intercept': np.float64(1.0),\n",
       "  'correlation': np.float64(nan),\n",
       "  'centroid': np.float64(37.00001489812678),\n",
       "  'sigma': 0.316225160473536,\n",
       "  'min_x': np.float64(36.50003479003907),\n",
       "  'max_x': np.float64(37.5000048828125),\n",
       "  'min_y': np.float64(1.0),\n",
       "  'max_y': np.float64(1.0),\n",
       "  'x_at_max_y': np.float64(37.5000048828125),\n",
       "  'x_at_min_y': np.float64(37.5000048828125),\n",
       "  'fwhm': 0.7446533466262112}}"
      ]
     },
     "execution_count": 6,
     "metadata": {},
     "output_type": "execute_result"
    },
    {
     "data": {
      "image/png": "[encoded data removed]",
      "text/plain": [
       "<Figure size 640x480 with 1 Axes>"
      ]
     },
     "metadata": {},
     "output_type": "display_data"
    }
   ],
   "source": [
    "from apstools.utils import plotxy\n",
    "plotxy(-1, \"sample_y\", \"det\")"
   ]
  },
  {
   "cell_type": "code",
   "execution_count": 7,
   "id": "f1d0bd27-1656-4d36-87e3-beb80977febc",
   "metadata": {},
   "outputs": [
    {
     "data": {
      "text/plain": [
       "============= ====================== ================== ===============\n",
       "name          class                  PV (or prefix)     label(s)       \n",
       "============= ====================== ================== ===============\n",
       "bs            FlightTubeBeamStop     8idiFlight:                       \n",
       "damm          Slit2                  8iddSoft:CR8-D1:US                \n",
       "det           SynGauss                                  detectors      \n",
       "detector      AerotechDetectorStage  8idiAerotech:      detector stage \n",
       "dm_experiment Signal                                                   \n",
       "eiger4M       XpcsAD_EigerDetector   8idEiger4m:        area_detector  \n",
       "fl4           Flag4                  8iddSoft:CR8-D1:US                \n",
       "flag1ad       XpcsAD_Flag            8idaSoft:flag1:    area_detector  \n",
       "flag2ad       XpcsAD_Flag            8idaSoft:flag2:    area_detector  \n",
       "idt_mono      IDTMono                8idaSoft:MONO:US                  \n",
       "mr1           HHL_Mirror1            8idaSoft:                         \n",
       "mr2           HHL_Mirror2            8idaSoft:                         \n",
       "rheometer     AerotechRheometerStage 8idiAerotech:      rheometer stage\n",
       "sample        AerotechSampleStage    8idiAerotech:      stage sample   \n",
       "sim_1d        SynGauss                                  simulator      \n",
       "sim_motor     SynAxis                                   motors         \n",
       "sl4           Slit6                  8iddSoft:CR8-D1:US                \n",
       "wb_slit       HHLSlits               8idaSoft:CR8-A1:US                \n",
       "============= ====================== ================== ==============="
      ]
     },
     "execution_count": 7,
     "metadata": {},
     "output_type": "execute_result"
    }
   ],
   "source": [
    "listobjects()"
   ]
  },
  {
   "cell_type": "code",
   "execution_count": 8,
   "id": "a33db8c5-5a0d-4f05-84c8-4640032407c7",
   "metadata": {},
   "outputs": [],
   "source": [
    "\n",
    "det = [flag2ad]\n",
    "# flag2ad.hdf1.kind=\"omitted\"\n",
    "flag2ad.stats1.kind=\"hinted\"\n",
    "flag2ad.stats1.total.kind=\"hinted\"\n",
    "flag2ad.stats1.max_xy.kind=\"hinted\"\n",
    "flag2ad.stats1.max_xy.y.kind=\"hinted\"\n",
    "bec.disable_plots()\n"
   ]
  },
  {
   "cell_type": "code",
   "execution_count": 15,
   "id": "f3aa1c9b-065d-40c7-81cb-d9f2a9e9471a",
   "metadata": {},
   "outputs": [
    {
     "data": {
      "text/plain": [
       "('configuration_names',\n",
       " 'cam',\n",
       " 'codec1',\n",
       " 'image',\n",
       " 'hdf1',\n",
       " 'pva',\n",
       " 'proc1',\n",
       " 'over1',\n",
       " 'roi1',\n",
       " 'stats1',\n",
       " 'trans1')"
      ]
     },
     "execution_count": 15,
     "metadata": {},
     "output_type": "execute_result"
    }
   ],
   "source": [
    "flag2ad.component_names"
   ]
  },
  {
   "cell_type": "code",
   "execution_count": 13,
   "id": "cff9ef76-c8dc-4ed6-ae29-cae9398f3b96",
   "metadata": {
    "scrolled": true
   },
   "outputs": [
    {
     "data": {
      "text/plain": [
       "('configuration_names',\n",
       " 'array_counter',\n",
       " 'array_rate',\n",
       " 'asyn_io',\n",
       " 'nd_attributes_file',\n",
       " 'pool_alloc_buffers',\n",
       " 'pool_free_buffers',\n",
       " 'pool_max_mem',\n",
       " 'pool_used_buffers',\n",
       " 'pool_used_mem',\n",
       " 'port_name',\n",
       " 'acquire',\n",
       " 'acquire_period',\n",
       " 'acquire_time',\n",
       " 'array_callbacks',\n",
       " 'array_size',\n",
       " 'array_size_bytes',\n",
       " 'bin_x',\n",
       " 'bin_y',\n",
       " 'color_mode',\n",
       " 'data_type',\n",
       " 'detector_state',\n",
       " 'frame_type',\n",
       " 'gain',\n",
       " 'image_mode',\n",
       " 'manufacturer',\n",
       " 'max_size',\n",
       " 'min_x',\n",
       " 'min_y',\n",
       " 'model',\n",
       " 'num_exposures',\n",
       " 'num_exposures_counter',\n",
       " 'num_images',\n",
       " 'num_images_counter',\n",
       " 'read_status',\n",
       " 'reverse',\n",
       " 'shutter_close_delay',\n",
       " 'shutter_close_epics',\n",
       " 'shutter_control',\n",
       " 'shutter_control_epics',\n",
       " 'shutter_fanout',\n",
       " 'shutter_mode',\n",
       " 'shutter_open_delay',\n",
       " 'shutter_open_epics',\n",
       " 'shutter_status_epics',\n",
       " 'shutter_status',\n",
       " 'size',\n",
       " 'status_message',\n",
       " 'string_from_server',\n",
       " 'string_to_server',\n",
       " 'temperature',\n",
       " 'temperature_actual',\n",
       " 'time_remaining',\n",
       " 'trigger_mode',\n",
       " 'acquire_busy',\n",
       " 'offset',\n",
       " 'wait_for_plugins')"
      ]
     },
     "execution_count": 13,
     "metadata": {},
     "output_type": "execute_result"
    }
   ],
   "source": [
    "flag2ad.cam.component_names"
   ]
  },
  {
   "cell_type": "code",
   "execution_count": 14,
   "id": "4080afa5-169a-4de6-b40d-106486e692eb",
   "metadata": {},
   "outputs": [
    {
     "data": {
      "text/plain": [
       "\u001b[0;31mType:\u001b[0m        ArraySize\n",
       "\u001b[0;31mString form:\u001b[0m ArraySize(prefix='8idaSoft:flag2:cam1:', name='flag2ad_cam_array_size', parent='flag2ad_cam', read_attrs=['array_size_z', 'array_size_y', 'array_size_x'], configuration_attrs=[])\n",
       "\u001b[0;31mFile:\u001b[0m        ~/.conda/envs/8_id_bs_v0/lib/python3.10/site-packages/ophyd/device.py\n",
       "\u001b[0;31mDocstring:\u001b[0m   ArraySize Device"
      ]
     },
     "metadata": {},
     "output_type": "display_data"
    }
   ],
   "source": [
    "flag2ad.cam.array_size?"
   ]
  },
  {
   "cell_type": "code",
   "execution_count": 16,
   "id": "7c0fabfc-486d-45f5-b4b9-d107a7316574",
   "metadata": {},
   "outputs": [
    {
     "data": {
      "text/plain": [
       "\u001b[0;31mType:\u001b[0m        ArraySize\n",
       "\u001b[0;31mString form:\u001b[0m ArraySize(prefix='8idaSoft:flag2:cam1:', name='flag2ad_cam_array_size', parent='flag2ad_cam', read_attrs=['array_size_z', 'array_size_y', 'array_size_x'], configuration_attrs=[])\n",
       "\u001b[0;31mFile:\u001b[0m        ~/.conda/envs/8_id_bs_v0/lib/python3.10/site-packages/ophyd/device.py\n",
       "\u001b[0;31mDocstring:\u001b[0m   ArraySize Device"
      ]
     },
     "metadata": {},
     "output_type": "display_data"
    }
   ],
   "source": [
    "flag2ad.cam.array_size??"
   ]
  },
  {
   "cell_type": "code",
   "execution_count": 18,
   "id": "51ec458b-bcc8-48ab-8238-01805a65bfe4",
   "metadata": {},
   "outputs": [
    {
     "data": {
      "text/plain": [
       "('flag_4',)"
      ]
     },
     "execution_count": 18,
     "metadata": {},
     "output_type": "execute_result"
    }
   ],
   "source": [
    "fl4.component_names"
   ]
  },
  {
   "cell_type": "code",
   "execution_count": null,
   "id": "3b1b2931-cb08-4fd8-a56d-9f07aad451db",
   "metadata": {},
   "outputs": [],
   "source": []
  }
 ],
 "metadata": {
  "kernelspec": {
   "display_name": "Python 3 (ipykernel)",
   "language": "python",
   "name": "python3"
  },
  "language_info": {
   "codemirror_mode": {
    "name": "ipython",
    "version": 3
   },
   "file_extension": ".py",
   "mimetype": "text/x-python",
   "name": "python",
   "nbconvert_exporter": "python",
   "pygments_lexer": "ipython3",
   "version": "3.10.14"
  }
 },
 "nbformat": 4,
 "nbformat_minor": 5
}
