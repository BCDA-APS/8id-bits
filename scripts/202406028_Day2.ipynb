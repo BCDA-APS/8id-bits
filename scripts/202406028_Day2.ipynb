{
 "cells": [
  {
   "cell_type": "code",
   "execution_count": 1,
   "id": "07983869-88a9-41c5-99df-73a2a75703d2",
   "metadata": {},
   "outputs": [
    {
     "name": "stdout",
     "output_type": "stream",
     "text": [
      "/home/beams10/8IDIUSER/er_bs_v3/src/instrument/utils/config_utils.py\n"
     ]
    },
    {
     "name": "stderr",
     "output_type": "stream",
     "text": [
      "APS device not found, suspenders not installed.\n"
     ]
    },
    {
     "name": "stdout",
     "output_type": "stream",
     "text": [
      "creating class\n",
      "creating class\n",
      "creating class\n"
     ]
    },
    {
     "name": "stderr",
     "output_type": "stream",
     "text": [
      "I Fri-14:23:47 - ############################################################ startup\n",
      "I Fri-14:23:47 - logging started\n",
      "I Fri-14:23:47 - logging level = 10\n",
      "I Fri-14:23:47 - /home/beams10/8IDIUSER/er_bs_v3/src/instrument/utils/session_logs.py\n",
      "I Fri-14:23:47 - /home/beams10/8IDIUSER/er_bs_v3/src/instrument/data_collection.py\n",
      "I Fri-14:23:47 - writing to SPEC file: /home/beams10/8IDIUSER/er_bs_v3/scripts/20240628-142331.dat\n",
      "I Fri-14:23:47 -    >>>>   Using default SPEC file name   <<<<\n",
      "I Fri-14:23:47 -    file will be created when bluesky ends its next scan\n",
      "I Fri-14:23:47 -    to change SPEC file, use command:   newSpecFile('title')\n",
      "I Fri-14:23:47 - #### data collection tools are loaded is complete. ####\n"
     ]
    },
    {
     "name": "stdout",
     "output_type": "stream",
     "text": [
      "Activating auto-logging. Current session state plus future input saved.\n",
      "Filename       : /home/beams10/8IDIUSER/er_bs_v3/scripts/.logs/ipython_console.log\n",
      "Mode           : rotate\n",
      "Output logging : True\n",
      "Raw input log  : False\n",
      "Timestamping   : True\n",
      "State          : active\n"
     ]
    }
   ],
   "source": [
    "import logging\n",
    "import time\n",
    "\n",
    "import aps_8id_bs_instrument\n",
    "from aps_8id_bs_instrument.data_collection import *  # noqa\n",
    "from aps_8id_bs_instrument.initialize_bs_tools import (  # noqa: F401\n",
    "    RE,\n",
    "    bec,\n",
    "    cat,\n",
    "    oregistry,\n",
    "    peaks,\n",
    "    sd,\n",
    ")\n",
    "from aps_8id_bs_instrument.utils.session_logs import logger\n",
    "from bluesky.magics import BlueskyMagics\n",
    "from IPython import get_ipython\n",
    "\n",
    "\n",
    "\n",
    "from ophyd import EpicsSignal\n",
    "import bluesky.plans as bp\n",
    "import bluesky.plan_stubs as bps\n",
    "import databroker\n",
    "cat = databroker.catalog[\"8idi_xpcs\"] "
   ]
  },
  {
   "cell_type": "code",
   "execution_count": 2,
   "id": "c3709798-5c66-469e-a6dd-dca72ead9e83",
   "metadata": {},
   "outputs": [],
   "source": [
    "# flag2Stats1=EpicsSignal('8idaSoft:flag2:Stats1:Total_RBV',name='flag2Stats1')\n",
    "from ophyd.sim import det\n",
    "# det = [flag2ad, flag2Stats1] # Flag 2 epics doesn't work today\n",
    "det_list = [det]\n",
    "# flag2ad.hdf1.kind=\"omitted\"\n",
    "# flag2ad.stats1.kind=\"hinted\"\n",
    "# flag2ad.stats1.total.kind=\"hinted\"\n",
    "# flag2ad.stats1.max_xy.kind=\"hinted\"\n",
    "# flag2ad.stats1.max_xy.y.kind=\"hinted\"\n",
    "# bec.disable_plots()"
   ]
  },
  {
   "cell_type": "code",
   "execution_count": 4,
   "id": "ca9497b9-e5f4-425e-a1e4-2e27c6c1ab24",
   "metadata": {
    "scrolled": true
   },
   "outputs": [
    {
     "name": "stdout",
     "output_type": "stream",
     "text": [
      "\n",
      "\n",
      "Transient Scan ID: 28858     Time: 2024-06-28 14:26:00\n",
      "Persistent Unique Scan ID: 'e4e71307-c73b-424a-bd8a-c173082c5970'\n",
      "New stream: 'label_start_motor'\n",
      "New stream: 'primary'\n",
      "+-----------+------------+------------+------------+\n",
      "|   seq_num |       time |   sample_y |        det |\n",
      "+-----------+------------+------------+------------+\n",
      "|         1 | 14:26:01.9 | 36.5000397 |      1.000 |\n",
      "|         2 | 14:26:02.7 | 36.5500220 |      1.000 |\n",
      "|         3 | 14:26:03.5 | 36.6000195 |      1.000 |\n",
      "|         4 | 14:26:04.2 | 36.6500192 |      1.000 |\n",
      "|         5 | 14:26:04.9 | 36.7000146 |      1.000 |\n",
      "|         6 | 14:26:05.7 | 36.7500192 |      1.000 |\n",
      "|         7 | 14:26:06.4 | 36.8000168 |      1.000 |\n",
      "|         8 | 14:26:07.3 | 36.8500204 |      1.000 |\n",
      "|         9 | 14:26:08.0 | 36.9000186 |      1.000 |\n",
      "|        10 | 14:26:08.7 | 36.9500262 |      1.000 |\n",
      "|        11 | 14:26:09.4 | 37.0000272 |      1.000 |\n",
      "|        12 | 14:26:10.2 | 37.0500250 |      1.000 |\n",
      "|        13 | 14:26:10.8 | 37.1000253 |      1.000 |\n",
      "|        14 | 14:26:11.6 | 37.1500262 |      1.000 |\n",
      "|        15 | 14:26:12.3 | 37.2000247 |      1.000 |\n",
      "|        16 | 14:26:13.0 | 37.2500247 |      1.000 |\n",
      "|        17 | 14:26:13.7 | 37.3000220 |      1.000 |\n",
      "|        18 | 14:26:14.4 | 37.3500201 |      1.000 |\n",
      "|        19 | 14:26:15.1 | 37.4000214 |      1.000 |\n",
      "|        20 | 14:26:15.8 | 37.4500177 |      1.000 |\n",
      "|        21 | 14:26:16.5 | 37.5000174 |      1.000 |\n",
      "+-----------+------------+------------+------------+\n",
      "generator rel_scan ['e4e71307'] (scan num: 28858)\n"
     ]
    },
    {
     "data": {
      "text/plain": [
       "('e4e71307-c73b-424a-bd8a-c173082c5970',)"
      ]
     },
     "execution_count": 4,
     "metadata": {},
     "output_type": "execute_result"
    }
   ],
   "source": [
    "RE(bp.rel_scan(det_list, sample.y, -0.5,0.5,21))"
   ]
  },
  {
   "cell_type": "code",
   "execution_count": 7,
   "id": "f0d65ecb-d949-4618-abf8-24f6df664de5",
   "metadata": {},
   "outputs": [],
   "source": [
    "ds = cat[-1].primary\n",
    "# ds.metadata"
   ]
  },
  {
   "cell_type": "code",
   "execution_count": 8,
   "id": "56a9568d-91aa-48e8-a38f-6c093263aa3c",
   "metadata": {
    "scrolled": true
   },
   "outputs": [],
   "source": [
    "from apstools.utils import plotxy\n",
    "import hdf5plugin"
   ]
  },
  {
   "cell_type": "code",
   "execution_count": 10,
   "id": "4c57402e-4ff8-42e8-ac13-66242d70cb64",
   "metadata": {
    "scrolled": true
   },
   "outputs": [
    {
     "name": "stderr",
     "output_type": "stream",
     "text": [
      "/home/beams/8IDIUSER/.conda/envs/8_id_bs_v0/lib/python3.10/site-packages/pysumreg/sum_registers.py:255: RuntimeWarning: invalid value encountered in scalar divide\n",
      "  (self.n*self.XY - self.X*self.Y)\n"
     ]
    },
    {
     "data": {
      "text/plain": [
       "{28856: {'mean_x': np.float64(37.00001894864169),\n",
       "  'mean_y': np.float64(1.0),\n",
       "  'stddev_x': 0.33165996711433166,\n",
       "  'stddev_y': 0.0,\n",
       "  'slope': np.float64(0.0),\n",
       "  'intercept': np.float64(1.0),\n",
       "  'correlation': np.float64(nan),\n",
       "  'centroid': np.float64(37.00001894864169),\n",
       "  'sigma': 0.31622537099393866,\n",
       "  'min_x': np.float64(36.50003112792969),\n",
       "  'max_x': np.float64(37.50000549316406),\n",
       "  'min_y': np.float64(1.0),\n",
       "  'max_y': np.float64(1.0),\n",
       "  'x_at_max_y': np.float64(37.50000549316406),\n",
       "  'x_at_min_y': np.float64(37.50000549316406),\n",
       "  'fwhm': 0.7446538423638753}}"
      ]
     },
     "execution_count": 10,
     "metadata": {},
     "output_type": "execute_result"
    },
    {
     "data": {
      "image/png": "[encoded data removed]",
      "text/plain": [
       "<Figure size 640x480 with 1 Axes>"
      ]
     },
     "metadata": {},
     "output_type": "display_data"
    }
   ],
   "source": [
    "plotxy(-1, \"sample_y\", \"det\")"
   ]
  },
  {
   "cell_type": "code",
   "execution_count": null,
   "id": "bd0bf916-68fd-4e89-99cd-867d6c107a81",
   "metadata": {},
   "outputs": [],
   "source": []
  }
 ],
 "metadata": {
  "kernelspec": {
   "display_name": "Python 3 (ipykernel)",
   "language": "python",
   "name": "python3"
  },
  "language_info": {
   "codemirror_mode": {
    "name": "ipython",
    "version": 3
   },
   "file_extension": ".py",
   "mimetype": "text/x-python",
   "name": "python",
   "nbconvert_exporter": "python",
   "pygments_lexer": "ipython3",
   "version": "3.10.14"
  }
 },
 "nbformat": 4,
 "nbformat_minor": 5
}
