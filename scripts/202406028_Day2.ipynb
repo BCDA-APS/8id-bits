{
 "cells": [
  {
   "cell_type": "code",
   "execution_count": null,
   "id": "0",
   "metadata": {},
<<<<<<< HEAD
   "outputs": [],
=======
   "outputs": [
    {
     "name": "stdout",
     "output_type": "stream",
     "text": [
      "/home/beams10/8IDIUSER/er_bs_v3/src/instrument/utils/config_utils.py\n"
     ]
    },
    {
     "name": "stderr",
     "output_type": "stream",
     "text": [
      "APS device not found, suspenders not installed.\n"
     ]
    },
    {
     "name": "stdout",
     "output_type": "stream",
     "text": [
      "creating class\n",
      "creating class\n",
      "creating class\n"
     ]
    },
    {
     "name": "stderr",
     "output_type": "stream",
     "text": [
      "I Fri-15:15:37 - ############################################################ startup\n",
      "I Fri-15:15:37 - logging started\n",
      "I Fri-15:15:37 - logging level = 10\n",
      "I Fri-15:15:37 - /home/beams10/8IDIUSER/er_bs_v3/src/instrument/utils/session_logs.py\n",
      "I Fri-15:15:37 - /home/beams10/8IDIUSER/er_bs_v3/src/instrument/data_collection.py\n",
      "I Fri-15:15:37 - writing to SPEC file: /home/beams10/8IDIUSER/er_bs_v3/scripts/20240628-151520.dat\n",
      "I Fri-15:15:37 -    >>>>   Using default SPEC file name   <<<<\n",
      "I Fri-15:15:37 -    file will be created when bluesky ends its next scan\n",
      "I Fri-15:15:37 -    to change SPEC file, use command:   newSpecFile('title')\n",
      "I Fri-15:15:37 - #### data collection tools are loaded is complete. ####\n"
     ]
    },
    {
     "name": "stdout",
     "output_type": "stream",
     "text": [
      "Activating auto-logging. Current session state plus future input saved.\n",
      "Filename       : /home/beams10/8IDIUSER/er_bs_v3/scripts/.logs/ipython_console.log\n",
      "Mode           : rotate\n",
      "Output logging : True\n",
      "Raw input log  : False\n",
      "Timestamping   : True\n",
      "State          : active\n"
     ]
    }
   ],
>>>>>>> 408228e (added day2 script)
   "source": [
    "import logging\n",
    "import time\n",
    "\n",
    "import aps_8id_bs_instrument\n",
    "from aps_8id_bs_instrument.data_collection import *  # noqa\n",
    "from aps_8id_bs_instrument.initialize_bs_tools import (  # noqa: F401\n",
    "    RE,\n",
    "    bec,\n",
    "    cat,\n",
    "    oregistry,\n",
    "    peaks,\n",
    "    sd,\n",
    ")\n",
    "from aps_8id_bs_instrument.utils.session_logs import logger\n",
    "from bluesky.magics import BlueskyMagics\n",
    "from IPython import get_ipython\n",
    "\n",
    "\n",
    "\n",
    "from ophyd import EpicsSignal\n",
    "import bluesky.plans as bp\n",
    "import bluesky.plan_stubs as bps\n",
    "import databroker\n",
    "cat = databroker.catalog[\"8idi_xpcs\"] "
   ]
  },
  {
   "cell_type": "code",
   "execution_count": null,
   "id": "1",
   "metadata": {},
   "outputs": [],
   "source": [
    "# flag2Stats1=EpicsSignal('8idaSoft:flag2:Stats1:Total_RBV',name='flag2Stats1')\n",
    "from ophyd.sim import det\n",
    "det_list = [det]\n",
    "# det = [flag2ad, flag2Stats1]\n",
    "# det = [flag2ad]\n",
    "# flag2ad.hdf1.kind=\"omitted\"\n",
    "# flag2ad.stats1.kind=\"hinted\"\n",
    "# flag2ad.stats1.total.kind=\"hinted\"\n",
    "# flag2ad.stats1.max_xy.kind=\"hinted\"\n",
    "# flag2ad.stats1.max_xy.y.kind=\"hinted\"\n",
    "bec.disable_plots()"
   ]
  },
  {
   "cell_type": "code",
<<<<<<< HEAD
   "execution_count": null,
   "id": "2",
   "metadata": {},
   "outputs": [],
=======
   "execution_count": 3,
   "id": "ca9497b9-e5f4-425e-a1e4-2e27c6c1ab24",
   "metadata": {
    "scrolled": true
   },
   "outputs": [
    {
     "name": "stdout",
     "output_type": "stream",
     "text": [
      "\n",
      "\n",
      "Transient Scan ID: 28859     Time: 2024-06-28 15:16:14\n",
      "Persistent Unique Scan ID: '73770a13-8ec8-43a0-b798-10ead9987afe'\n",
      "New stream: 'label_start_motor'\n",
      "New stream: 'primary'\n",
      "+-----------+------------+------------+------------+\n",
      "|   seq_num |       time |   sample_y |        det |\n",
      "+-----------+------------+------------+------------+\n",
      "|         1 | 15:16:16.2 | 36.5000385 |      1.000 |\n",
      "|         2 | 15:16:16.9 | 36.6000174 |      1.000 |\n",
      "|         3 | 15:16:17.6 | 36.7000137 |      1.000 |\n",
      "|         4 | 15:16:18.3 | 36.8000174 |      1.000 |\n",
      "|         5 | 15:16:19.2 | 36.9000189 |      1.000 |\n",
      "|         6 | 15:16:20.0 | 37.0000281 |      1.000 |\n",
      "|         7 | 15:16:20.6 | 37.1000262 |      1.000 |\n",
      "|         8 | 15:16:21.4 | 37.2000198 |      1.000 |\n",
      "|         9 | 15:16:22.0 | 37.3000177 |      1.000 |\n",
      "|        10 | 15:16:22.8 | 37.4000220 |      1.000 |\n",
      "|        11 | 15:16:23.4 | 37.5000110 |      1.000 |\n",
      "+-----------+------------+------------+------------+\n",
      "generator rel_scan ['73770a13'] (scan num: 28859)\n"
     ]
    },
    {
     "data": {
      "text/plain": [
       "('73770a13-8ec8-43a0-b798-10ead9987afe',)"
      ]
     },
     "execution_count": 3,
     "metadata": {},
     "output_type": "execute_result"
    }
   ],
>>>>>>> 408228e (added day2 script)
   "source": [
    "RE(bp.rel_scan(det_list, sample.y, -0.5,0.5,11))"
   ]
  },
  {
   "cell_type": "code",
<<<<<<< HEAD
   "execution_count": null,
   "id": "3",
=======
   "execution_count": 4,
   "id": "f0d65ecb-d949-4618-abf8-24f6df664de5",
>>>>>>> 408228e (added day2 script)
   "metadata": {},
   "outputs": [],
   "source": [
    "ds = cat[-1].primary\n",
    "# ds.metadata"
   ]
  },
  {
   "cell_type": "code",
<<<<<<< HEAD
   "execution_count": null,
   "id": "4",
   "metadata": {},
=======
   "execution_count": 5,
   "id": "56a9568d-91aa-48e8-a38f-6c093263aa3c",
   "metadata": {
    "scrolled": true
   },
>>>>>>> 408228e (added day2 script)
   "outputs": [],
   "source": [
    "from apstools.utils import plotxy\n",
    "import hdf5plugin"
   ]
  },
  {
   "cell_type": "code",
<<<<<<< HEAD
   "execution_count": null,
   "id": "5",
   "metadata": {},
   "outputs": [],
=======
   "execution_count": 7,
   "id": "4c57402e-4ff8-42e8-ac13-66242d70cb64",
   "metadata": {
    "scrolled": true
   },
   "outputs": [
    {
     "name": "stderr",
     "output_type": "stream",
     "text": [
      "/home/beams/8IDIUSER/.conda/envs/8_id_bs_v0/lib/python3.10/site-packages/pysumreg/sum_registers.py:255: RuntimeWarning: invalid value encountered in scalar divide\n",
      "  (self.n*self.XY - self.X*self.Y)\n"
     ]
    },
    {
     "data": {
      "text/plain": [
       "{28859: {'mean_x': np.float64(37.00002097389915),\n",
       "  'mean_y': np.float64(1.0),\n",
       "  'stddev_x': 0.33165961747666356,\n",
       "  'stddev_y': 0.0,\n",
       "  'slope': np.float64(0.0),\n",
       "  'intercept': np.float64(1.0),\n",
       "  'correlation': np.float64(nan),\n",
       "  'centroid': np.float64(37.00002097389915),\n",
       "  'sigma': 0.3162250376275023,\n",
       "  'min_x': np.float64(36.50003845214844),\n",
       "  'max_x': np.float64(37.50001098632813),\n",
       "  'min_y': np.float64(1.0),\n",
       "  'max_y': np.float64(1.0),\n",
       "  'x_at_max_y': np.float64(37.50001098632813),\n",
       "  'x_at_min_y': np.float64(37.50001098632813),\n",
       "  'fwhm': 0.7446530573459087}}"
      ]
     },
     "execution_count": 7,
     "metadata": {},
     "output_type": "execute_result"
    },
    {
     "data": {
      "image/png": "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",
      "text/plain": [
       "<Figure size 640x480 with 1 Axes>"
      ]
     },
     "metadata": {},
     "output_type": "display_data"
    }
   ],
>>>>>>> 408228e (added day2 script)
   "source": [
    "plotxy(-1, \"sample_y\", \"det\")"
   ]
  },
  {
   "cell_type": "code",
   "execution_count": null,
<<<<<<< HEAD
   "id": "6",
=======
   "id": "31ffbcf1-3210-43cb-8389-60190830bcc6",
>>>>>>> 408228e (added day2 script)
   "metadata": {},
   "outputs": [],
   "source": []
  }
 ],
 "metadata": {
  "kernelspec": {
   "display_name": "Python 3 (ipykernel)",
   "language": "python",
   "name": "python3"
  },
  "language_info": {
   "codemirror_mode": {
    "name": "ipython",
    "version": 3
   },
   "file_extension": ".py",
   "mimetype": "text/x-python",
   "name": "python",
   "nbconvert_exporter": "python",
   "pygments_lexer": "ipython3",
   "version": "3.10.14"
  }
 },
 "nbformat": 4,
 "nbformat_minor": 5
}
