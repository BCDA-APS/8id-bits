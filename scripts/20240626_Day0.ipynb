{
 "cells": [
  {
   "cell_type": "markdown",
   "id": "0",
   "metadata": {},
   "source": [
    "# Test simple relative scan "
   ]
  },
  {
   "cell_type": "markdown",
   "id": "1",
   "metadata": {},
   "source": [
    "### SPEC file:\n",
    " - Path:  /home/beams10/8IDIUSER/er_bs_v3/20240626-193256.dat\n",
    " -    Using default SPEC file name\n",
    " -    file will be created when bluesky ends its next scan\n",
    " -    to change SPEC file, use command:   newSpecFile('title')\n"
   ]
  },
  {
   "cell_type": "code",
   "execution_count": null,
   "id": "2",
   "metadata": {},
   "outputs": [],
   "source": [
    "import logging\n",
    "import time\n",
    "\n",
    "import aps_8id_bs_instrument\n",
    "from aps_8id_bs_instrument.data_collection import *  # noqa\n",
    "from aps_8id_bs_instrument.initialize_bs_tools import (  # noqa: F401\n",
    "    RE,\n",
    "    bec,\n",
    "    cat,\n",
    "    oregistry,\n",
    "    peaks,\n",
    "    sd,\n",
    ")\n",
    "from aps_8id_bs_instrument.utils.session_logs import logger\n",
    "from bluesky.magics import BlueskyMagics\n",
    "from IPython import get_ipython\n",
    "\n",
    "\n",
    "\n",
    "from ophyd import EpicsSignal\n",
    "import bluesky.plans as bp\n",
    "import bluesky.plan_stubs as bps\n",
    "import databroker\n",
    "cat = databroker.catalog[\"8idi_xpcs\"] \n",
    "\n",
    "\n"
   ]
  },
  {
   "cell_type": "markdown",
   "id": "3",
   "metadata": {},
   "source": [
    "### Create devices for Total_RBV"
   ]
  },
  {
   "cell_type": "code",
   "execution_count": null,
   "id": "4",
   "metadata": {
    "jupyter": {
     "outputs_hidden": true
    }
   },
   "outputs": [],
   "source": [
    "flag1Stats1=EpicsSignal('8idaSoft:flag1:Stats1:Total_RBV',name='flag1Stats1')\n",
    "flag2Stats1=EpicsSignal('8idaSoft:flag2:Stats1:Total_RBV',name='flag2Stats1')\n",
    "\n",
    "det=[flag1Stats1,flag2Stats1]"
   ]
  },
  {
   "cell_type": "markdown",
   "id": "5",
   "metadata": {},
   "source": [
    "### Test RE with Hello World"
   ]
  },
  {
   "cell_type": "code",
   "execution_count": null,
   "id": "6",
   "metadata": {},
   "outputs": [],
   "source": [
    "def hello_world():\n",
    "    \"\"\"Simple plan for testing purposes.\"\"\"\n",
    "    yield from bp.count([fl4], md=dict(title=\"test QS\"))"
   ]
  },
  {
   "cell_type": "code",
   "execution_count": null,
   "id": "7",
   "metadata": {},
   "outputs": [],
   "source": [
    "RE(hello_world())"
   ]
  },
  {
   "cell_type": "code",
   "execution_count": null,
   "id": "8",
   "metadata": {},
   "outputs": [],
   "source": [
    "def hello_world():\n",
    "    \"\"\"Simple plan for testing purposes.\"\"\"\n",
    "    yield from bp.rel_scan([flag2ad], sample.y, -0.5,0.5,11)"
   ]
  },
  {
   "cell_type": "code",
   "execution_count": null,
   "id": "9",
   "metadata": {},
   "outputs": [],
   "source": [
    "RE(bp.rel_scan([flag2ad], sample.y, -0.5,0.5,11))"
   ]
  },
  {
   "cell_type": "code",
   "execution_count": null,
   "id": "10",
   "metadata": {},
   "outputs": [],
   "source": [
    "fl4.connected"
   ]
  },
  {
   "cell_type": "code",
   "execution_count": null,
   "id": "11",
   "metadata": {},
   "outputs": [],
   "source": [
    "fl4.read()['fl4_flag_4_user_setpoint']['value']"
   ]
  },
  {
   "cell_type": "code",
   "execution_count": null,
   "id": "12",
   "metadata": {},
   "outputs": [],
   "source": [
    "sample.y.connected"
   ]
  },
  {
   "cell_type": "code",
   "execution_count": null,
   "id": "13",
   "metadata": {},
   "outputs": [],
   "source": [
    "sample.y.move(37.5)"
   ]
  },
  {
   "cell_type": "code",
   "execution_count": null,
   "id": "14",
   "metadata": {},
   "outputs": [],
   "source": [
    "RE(bp.rel_scan([sim1d], motor, -0.5,0.5,11))"
   ]
  },
  {
   "cell_type": "markdown",
   "id": "15",
   "metadata": {},
   "source": [
    "### Access run data from catalog"
   ]
  },
  {
   "cell_type": "code",
   "execution_count": null,
   "id": "16",
   "metadata": {},
   "outputs": [],
   "source": [
    "run = cat[-1]"
   ]
  },
  {
<<<<<<< HEAD

   "cell_type": "markdown",
   "id": "18",
   "metadata": {},
=======
   "cell_type": "code",
   "execution_count": null,
   "id": "17",
   "metadata": {},
   "outputs": [],
>>>>>>> 6986aec (small changes needed to run day 3)
   "source": [
    "runSkip to main panel\n",
    ">\n",
    "/scripts/\n",
    "Name\n",
    "Modified\n",
    "File Size\n",
    "\n",
    "Selection deleted\n",
    "dataset = run.primary.read()\n",
    "/home/beams/8IDIUSER/.conda/envs/8_id_bs_v0/lib/python3.10/site-packages/databroker/intake_xarray_core/base.py:23: FutureWarning: The return type of `Dataset.dims` will be changed to return a set of dimension names in future, in order to be more consistent with `DataArray.dims`. To access a mapping from dimension names to lengths, please use `Dataset.sizes`.\n",
    "datasetbluesky\n",
    "xarray.Dataset\n",
    "\n",
    "    Dimensions:\n",
    "        time: 11\n",
    "    Coordinates:\n",
    "        time\n",
    "        (time)\n",
    "        float64\n",
    "        1.719e+09 1.719e+09 ... 1.719e+09\n",
    "    Data variables:\n",
    "        sim1d\n",
    "        (time)\n",
    "        int64\n",
    "        0 0 0 0 0 0 0 0 0 0 0\n",
    "        motor\n",
    "        (time)\n",
    "        float64\n",
    "        -0.5 -0.4 -0.3 -0.2 ... 0.3 0.4 0.5\n",
    "        motor_setpoint\n",
    "        (time)\n",
    "        float64\n",
    "        -0.5 -0.4 -0.3 -0.2 ... 0.3 0.4 0.5\n",
    "    Indexes: (1)\n",
    "    Attributes: (0)\n",
    "\n",
    "Create EpicsSignal for AD flag2 stats\n",
    "my_PV=EpicsSignal('8idaSoft:flag1:Stats1:Total_RBV',name='my_PV')\n"
   ]
  },
  {
   "cell_type": "code",
   "execution_count": null,
   "id": "18",
   "metadata": {
    "jupyter": {
     "outputs_hidden": true
    }
   },
   "outputs": [],
   "source": [
    "dataset = run.primary.read()"
   ]
  },
  {
   "cell_type": "code",
   "execution_count": null,
   "id": "19",
   "metadata": {},
   "outputs": [],
   "source": [
    "datasetbluesky"
   ]
  },
  {
   "cell_type": "markdown",
   "id": "20",
   "metadata": {},
   "source": [
    "### Create EpicsSignal for AD flag2 stats"
   ]
  },
  {
   "cell_type": "code",
   "execution_count": null,
   "id": "21",
   "metadata": {},
   "outputs": [],
   "source": [
    "my_PV=EpicsSignal('8idaSoft:flag1:Stats1:Total_RBV',name='my_PV')"
   ]
  },
  {
   "cell_type": "code",
   "execution_count": null,
   "id": "22",
   "metadata": {},
   "outputs": [],
   "source": [
    "my_PV.connected"
   ]
  },
  {
   "cell_type": "code",
   "execution_count": null,
   "id": "23",
   "metadata": {},
   "outputs": [],
   "source": [
    "my_PV.get()"
   ]
  },
  {
   "cell_type": "code",
   "execution_count": null,
   "id": "24",
   "metadata": {
    "jupyter": {
     "outputs_hidden": true
    }
   },
   "outputs": [],
   "source": [
    "RE(rel_scan([my_PV],sample.y, -0.5, 0.5, 11))"
   ]
  },
  {
   "cell_type": "markdown",
   "id": "25",
   "metadata": {},
   "source": [
    "### Trying with both flag1 and flag2:\n",
    "\n",
    "`det` is define at the top of the notebook, and contains the total RBV for both flag1 and flag2:¶"
   ]
  },
  {
   "cell_type": "code",
   "execution_count": null,
   "id": "26",
   "metadata": {},
   "outputs": [],
   "source": [
    "RE(rel_scan(det,sample.y, -0.5, 0.5, 11))"
   ]
  },
  {
   "cell_type": "code",
   "execution_count": null,
   "id": "27",
   "metadata": {},
   "outputs": [],
   "source": []
  }
 ],
 "metadata": {
  "kernelspec": {
   "display_name": "Python 3 (ipykernel)",
   "language": "python",
   "name": "python3"
  },
  "language_info": {
   "codemirror_mode": {
    "name": "ipython",
    "version": 3
   },
   "file_extension": ".py",
   "mimetype": "text/x-python",
   "name": "python",
   "nbconvert_exporter": "python",
   "pygments_lexer": "ipython3",
   "version": "3.10.14"
  }
 },
 "nbformat": 4,
 "nbformat_minor": 5
}
